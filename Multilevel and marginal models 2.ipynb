{
 "cells": [
  {
   "cell_type": "code",
   "execution_count": 9,
   "id": "e9c7153d",
   "metadata": {},
   "outputs": [],
   "source": [
    "%matplotlib inline\n",
    "import seaborn as sns\n",
    "import pandas as pd\n",
    "import numpy as np\n",
    "import matplotlib.pyplot as plt\n",
    "import statsmodels.api as sm"
   ]
  },
  {
   "cell_type": "markdown",
   "id": "22d7026d",
   "metadata": {},
   "source": [
    "### Nhanes dataset"
   ]
  },
  {
   "cell_type": "code",
   "execution_count": 5,
   "id": "807dc37f",
   "metadata": {},
   "outputs": [
    {
     "data": {
      "text/html": [
       "<div>\n",
       "<style scoped>\n",
       "    .dataframe tbody tr th:only-of-type {\n",
       "        vertical-align: middle;\n",
       "    }\n",
       "\n",
       "    .dataframe tbody tr th {\n",
       "        vertical-align: top;\n",
       "    }\n",
       "\n",
       "    .dataframe thead th {\n",
       "        text-align: right;\n",
       "    }\n",
       "</style>\n",
       "<table border=\"1\" class=\"dataframe\">\n",
       "  <thead>\n",
       "    <tr style=\"text-align: right;\">\n",
       "      <th></th>\n",
       "      <th>BPXSY1</th>\n",
       "      <th>RIDAGEYR</th>\n",
       "      <th>RIAGENDR</th>\n",
       "      <th>RIDRETH1</th>\n",
       "      <th>DMDEDUC2</th>\n",
       "      <th>BMXBMI</th>\n",
       "      <th>SMQ020</th>\n",
       "      <th>SDMVSTRA</th>\n",
       "      <th>SDMVPSU</th>\n",
       "    </tr>\n",
       "  </thead>\n",
       "  <tbody>\n",
       "    <tr>\n",
       "      <th>0</th>\n",
       "      <td>128.0</td>\n",
       "      <td>62</td>\n",
       "      <td>1</td>\n",
       "      <td>3</td>\n",
       "      <td>5.0</td>\n",
       "      <td>27.8</td>\n",
       "      <td>1</td>\n",
       "      <td>125</td>\n",
       "      <td>1</td>\n",
       "    </tr>\n",
       "    <tr>\n",
       "      <th>1</th>\n",
       "      <td>146.0</td>\n",
       "      <td>53</td>\n",
       "      <td>1</td>\n",
       "      <td>3</td>\n",
       "      <td>3.0</td>\n",
       "      <td>30.8</td>\n",
       "      <td>1</td>\n",
       "      <td>125</td>\n",
       "      <td>1</td>\n",
       "    </tr>\n",
       "    <tr>\n",
       "      <th>2</th>\n",
       "      <td>138.0</td>\n",
       "      <td>78</td>\n",
       "      <td>1</td>\n",
       "      <td>3</td>\n",
       "      <td>3.0</td>\n",
       "      <td>28.8</td>\n",
       "      <td>1</td>\n",
       "      <td>131</td>\n",
       "      <td>1</td>\n",
       "    </tr>\n",
       "    <tr>\n",
       "      <th>3</th>\n",
       "      <td>132.0</td>\n",
       "      <td>56</td>\n",
       "      <td>2</td>\n",
       "      <td>3</td>\n",
       "      <td>5.0</td>\n",
       "      <td>42.4</td>\n",
       "      <td>2</td>\n",
       "      <td>131</td>\n",
       "      <td>1</td>\n",
       "    </tr>\n",
       "    <tr>\n",
       "      <th>4</th>\n",
       "      <td>100.0</td>\n",
       "      <td>42</td>\n",
       "      <td>2</td>\n",
       "      <td>4</td>\n",
       "      <td>4.0</td>\n",
       "      <td>20.3</td>\n",
       "      <td>2</td>\n",
       "      <td>126</td>\n",
       "      <td>2</td>\n",
       "    </tr>\n",
       "  </tbody>\n",
       "</table>\n",
       "</div>"
      ],
      "text/plain": [
       "   BPXSY1  RIDAGEYR  RIAGENDR  RIDRETH1  DMDEDUC2  BMXBMI  SMQ020  SDMVSTRA  \\\n",
       "0   128.0        62         1         3       5.0    27.8       1       125   \n",
       "1   146.0        53         1         3       3.0    30.8       1       125   \n",
       "2   138.0        78         1         3       3.0    28.8       1       131   \n",
       "3   132.0        56         2         3       5.0    42.4       2       131   \n",
       "4   100.0        42         2         4       4.0    20.3       2       126   \n",
       "\n",
       "   SDMVPSU  \n",
       "0        1  \n",
       "1        1  \n",
       "2        1  \n",
       "3        1  \n",
       "4        2  "
      ]
     },
     "execution_count": 5,
     "metadata": {},
     "output_type": "execute_result"
    }
   ],
   "source": [
    "#Read data\n",
    "da = pd.read_csv('nhanes_2015_2016.csv')\n",
    "\n",
    "#Isolate needed data and drop missing data\n",
    "vars = [\"BPXSY1\", \"RIDAGEYR\", \"RIAGENDR\", \"RIDRETH1\", \"DMDEDUC2\", \"BMXBMI\",\n",
    "        \"SMQ020\", \"SDMVSTRA\", \"SDMVPSU\"]\n",
    "da = da[vars].dropna()\n",
    "\n",
    "da.head()"
   ]
  },
  {
   "cell_type": "code",
   "execution_count": 6,
   "id": "b6c88a64",
   "metadata": {},
   "outputs": [],
   "source": [
    "#Obtaining MVU identifiers to be used as clusters\n",
    "da['group'] = 10*da.SDMVSTRA + da.SDMVPSU"
   ]
  },
  {
   "cell_type": "markdown",
   "id": "255ef41b",
   "metadata": {},
   "source": [
    "Similarity among observations within a cluster can be measured using a statistic called the intraclass correlation or ICC. We can assess ICC using two regression techniques, _marginal regression_, and _multilevel regression_."
   ]
  },
  {
   "cell_type": "code",
   "execution_count": 14,
   "id": "7e832dab",
   "metadata": {},
   "outputs": [
    {
     "name": "stdout",
     "output_type": "stream",
     "text": [
      "The correlation between two observations in the same cluster is 0.030\n"
     ]
    }
   ],
   "source": [
    "#ICC for systollic blood pressure using GEE (marginal)\n",
    "\n",
    "model = sm.GEE.from_formula(\n",
    "    formula = 'BPXSY1 ~ 1',\n",
    "    groups = 'group',\n",
    "    cov_struct = sm.cov_struct.Exchangeable(),\n",
    "    data = da\n",
    ")\n",
    "\n",
    "result = model.fit()\n",
    "\n",
    "print(result.cov_struct.summary())"
   ]
  },
  {
   "cell_type": "code",
   "execution_count": 16,
   "id": "3422d0aa",
   "metadata": {},
   "outputs": [
    {
     "name": "stdout",
     "output_type": "stream",
     "text": [
      "The correlation between two observations in the same cluster is 0.030\n",
      "The correlation between two observations in the same cluster is 0.035\n",
      "The correlation between two observations in the same cluster is 0.039\n",
      "The correlation between two observations in the same cluster is 0.026\n",
      "The correlation between two observations in the same cluster is 0.959\n"
     ]
    }
   ],
   "source": [
    "#Recode smoking as a binary outcome\n",
    "da['smq'] = da['SMQ020'].replace({2:0, 7:np.nan, 9:np.nan})\n",
    "\n",
    "#ICC for the other variables\n",
    "for v in [\"BPXSY1\", \"RIDAGEYR\", \"BMXBMI\", \"smq\", \"SDMVSTRA\"]:\n",
    "    model = sm.GEE.from_formula(\n",
    "        formula = v + \" ~ 1\",\n",
    "        groups = 'group',\n",
    "        cov_struct = sm.cov_struct.Exchangeable(),\n",
    "        data = da\n",
    "    )\n",
    "    result = model.fit()\n",
    "    print(result.cov_struct.summary())"
   ]
  },
  {
   "cell_type": "markdown",
   "id": "fba9cdc8",
   "metadata": {},
   "source": [
    "The ICC for SDMVSTRA is very high because it's part of the cluster definition"
   ]
  },
  {
   "cell_type": "code",
   "execution_count": 17,
   "id": "eccb34a2",
   "metadata": {},
   "outputs": [
    {
     "name": "stdout",
     "output_type": "stream",
     "text": [
      "The correlation between two observations in the same cluster is 0.001\n",
      "The correlation between two observations in the same cluster is 0.001\n",
      "The correlation between two observations in the same cluster is 0.002\n",
      "The correlation between two observations in the same cluster is -0.001\n",
      "The correlation between two observations in the same cluster is -0.000\n",
      "The correlation between two observations in the same cluster is 0.002\n",
      "The correlation between two observations in the same cluster is 0.001\n",
      "The correlation between two observations in the same cluster is -0.001\n",
      "The correlation between two observations in the same cluster is 0.001\n",
      "The correlation between two observations in the same cluster is -0.001\n"
     ]
    }
   ],
   "source": [
    "#Compare with ICC for 10 random sets with no dependence\n",
    "for k in range(10):\n",
    "    da['noise'] = np.random.normal(size = da.shape[0])\n",
    "    model = sm.GEE.from_formula(\n",
    "        formula = 'noise ~ 1',\n",
    "        groups = 'group',\n",
    "        cov_struct = sm.cov_struct.Exchangeable(),\n",
    "        data = da\n",
    "    )\n",
    "    result = model.fit()\n",
    "    print(result.cov_struct.summary())\n"
   ]
  },
  {
   "cell_type": "markdown",
   "id": "1112c99c",
   "metadata": {},
   "source": [
    "The ICC's studied above were marginal, in the sense that we were looking at whether, say, the SBP values were more similar within versus between clusters. To the extent that such \"cluster effects\" are found, it may be largely explained by demographic differences among the clusters. For example, we know from our previous analyses with the NHANES data that older people have higher SBP than younger people. Also, some clusters may contain a slightly older or younger set of people than others. Thus, by controlling for age, we might anticipate that the ICC will become smaller."
   ]
  },
  {
   "cell_type": "code",
   "execution_count": 19,
   "id": "561ecd00",
   "metadata": {},
   "outputs": [
    {
     "name": "stdout",
     "output_type": "stream",
     "text": [
      "The correlation between two observations in the same cluster is 0.019\n"
     ]
    }
   ],
   "source": [
    "#Controling for age\n",
    "model = sm.GEE.from_formula(\n",
    "    formula = 'BPXSY1 ~ RIDAGEYR',\n",
    "    groups = 'group',\n",
    "    cov_struct = sm.cov_struct.Exchangeable(),\n",
    "    data = da\n",
    ")\n",
    "\n",
    "result = model.fit()\n",
    "print(result.cov_struct.summary())"
   ]
  },
  {
   "cell_type": "markdown",
   "id": "5407024f",
   "metadata": {},
   "source": [
    "We can now assess whether it drops even further when we add additional covariates that we know to be predictive of blood pressure."
   ]
  },
  {
   "cell_type": "code",
   "execution_count": 22,
   "id": "2a92bc68",
   "metadata": {},
   "outputs": [
    {
     "name": "stdout",
     "output_type": "stream",
     "text": [
      "The correlation between two observations in the same cluster is 0.013\n"
     ]
    }
   ],
   "source": [
    "#Relabelling gender variable\n",
    "da['RIAGENDRx'] = da.RIAGENDR.replace({1:'Male', 2:'Female'})\n",
    "\n",
    "#RIDRETH1 is a categorical variable coded numerically, thus we must use the C() syntax \n",
    "#in the formula to force this variable to be treated as being categorical.\n",
    "model = sm.GEE.from_formula(\n",
    "    formula = \"BPXSY1 ~ RIDAGEYR + RIAGENDRx + BMXBMI + C(RIDRETH1)\",\n",
    "    groups = 'group',\n",
    "    cov_struct = sm.cov_struct.Exchangeable(),\n",
    "    data = da\n",
    ")\n",
    "\n",
    "result = model.fit()\n",
    "print(result.cov_struct.summary())"
   ]
  },
  {
   "cell_type": "markdown",
   "id": "65f6ab41",
   "metadata": {},
   "source": [
    "### Marginal linear model with dependent data"
   ]
  },
  {
   "cell_type": "code",
   "execution_count": 27,
   "id": "b8f3ee99",
   "metadata": {},
   "outputs": [
    {
     "name": "stdout",
     "output_type": "stream",
     "text": [
      "                   OLS_params    OLS_SE  GEE_params    GEE_SE\n",
      "Intercept           91.736583  1.339378   92.168530  1.384309\n",
      "RIAGENDRx[T.Male]    3.671294  0.453763    3.650245  0.454498\n",
      "C(RIDRETH1)[T.2]     0.855488  0.819486    0.159296  0.767025\n",
      "C(RIDRETH1)[T.3]    -1.796132  0.671954   -2.233280  0.760228\n",
      "C(RIDRETH1)[T.4]     3.813314  0.732355    3.105654  0.881580\n",
      "C(RIDRETH1)[T.5]    -0.455347  0.808948   -0.439831  0.813675\n",
      "RIDAGEYR             0.478699  0.012901    0.474101  0.018493\n",
      "BMXBMI               0.278015  0.033285    0.280205  0.038553\n"
     ]
    }
   ],
   "source": [
    "#OLS vs GEE standard errors \n",
    "\n",
    "#Linear model with OLS\n",
    "model1 = sm.OLS.from_formula(\n",
    "    'BPXSY1 ~ RIDAGEYR + RIAGENDRx + BMXBMI + C(RIDRETH1)',\n",
    "    data = da\n",
    ")\n",
    "result1 = model1.fit()\n",
    "\n",
    "#Linear model with GEE\n",
    "model2 = sm.GEE.from_formula(\n",
    "    'BPXSY1 ~ RIDAGEYR + RIAGENDRx + BMXBMI + C(RIDRETH1)',\n",
    "    groups = 'group',\n",
    "    cov_struct = sm.cov_struct.Exchangeable(),\n",
    "    data = da\n",
    ")\n",
    "result2 = model2.fit()\n",
    "\n",
    "x = pd.DataFrame({\n",
    "    'OLS_params': result1.params, 'OLS_SE': result1.bse,\n",
    "    'GEE_params': result2.params, 'GEE_SE': result2.bse\n",
    "})\n",
    "x = x[['OLS_params', 'OLS_SE', 'GEE_params', 'GEE_SE']]\n",
    "\n",
    "print(x)"
   ]
  },
  {
   "cell_type": "markdown",
   "id": "6715f8c1",
   "metadata": {},
   "source": [
    "The point estimates are similar between the OLS and GEE fits of the model, but the standard errors tend to be larger in the GEE fit. For example, the standard errors for BMI and age are 20-40% larger in the GEE fit. Since we know that there is dependence in these data that is driven by clustering, the OLS approach is not theoretically justified (the OLS parameter estimates remain in meaningful, but the standard errors do not). GEE parameter estimates and standard errors are meaningful in the presence of dependence, as long as the dependence is exclusively between observations within the same cluster."
   ]
  },
  {
   "cell_type": "markdown",
   "id": "4f694d08",
   "metadata": {},
   "source": [
    "### Marginal logistic model with dependent data"
   ]
  },
  {
   "cell_type": "code",
   "execution_count": 32,
   "id": "872e6d87",
   "metadata": {},
   "outputs": [
    {
     "name": "stdout",
     "output_type": "stream",
     "text": [
      "                             OLS_params    OLS_SE  GEE_params    GEE_SE\n",
      "Intercept                     -2.305999  0.114308   -2.249820  0.140567\n",
      "RIAGENDRx[T.Male]              0.909597  0.060167    0.908682  0.062342\n",
      "C(DMDEDUC2x)[T.HS]             0.943364  0.089663    0.887965  0.095397\n",
      "C(DMDEDUC2x)[T.SomeCollege]    0.832227  0.084361    0.771636  0.104449\n",
      "C(DMDEDUC2x)[T.lt9]            0.266228  0.109183    0.321784  0.141327\n",
      "C(DMDEDUC2x)[T.x9_11]          1.098561  0.106697    1.062149  0.138401\n",
      "RIDAGEYR                       0.018257  0.001725    0.017416  0.001803\n"
     ]
    }
   ],
   "source": [
    "#GLM vs GEE standard errors \n",
    "\n",
    "#Relabelling education levels\n",
    "da['DMDEDUC2x'] = da.DMDEDUC2.replace({\n",
    "    1: \"lt9\", 2: \"x9_11\", 3: \"HS\", 4: \"SomeCollege\",\n",
    "    5: \"College\", 7: np.nan, 9: np.nan\n",
    "})\n",
    "\n",
    "#Logistic model with GLM\n",
    "model1 = sm.GLM.from_formula(\n",
    "    formula = 'smq ~ RIDAGEYR + RIAGENDRx + C(DMDEDUC2x)',\n",
    "    family = sm.families.Binomial(),\n",
    "    data = da\n",
    ")\n",
    "result1 = model1.fit()\n",
    "\n",
    "#Logistic model with GEE\n",
    "model2 = sm.GEE.from_formula(\n",
    "    formula = 'smq ~ RIDAGEYR + RIAGENDRx + C(DMDEDUC2x)',\n",
    "    family = sm.families.Binomial(),\n",
    "    groups = 'group',\n",
    "    cov_struct = sm.cov_struct.Exchangeable(),\n",
    "    data = da\n",
    ")\n",
    "\n",
    "result2 = model2.fit()\n",
    "\n",
    "x = pd.DataFrame({\"OLS_params\": result1.params, \"OLS_SE\": result1.bse,\n",
    "                  \"GEE_params\": result2.params, \"GEE_SE\": result2.bse})\n",
    "x = x[[\"OLS_params\", \"OLS_SE\", \"GEE_params\", \"GEE_SE\"]]\n",
    "print(x)"
   ]
  },
  {
   "cell_type": "markdown",
   "id": "96d51241",
   "metadata": {},
   "source": [
    "The results show that the GLM and the GEE give very similar estimates for the regression parameters. However the standard errors obtained using GEE are somewhat larger than those obtained using GLM. This indicates that GLM understates the uncertainty in the estimated mean structure, which is a direct consequence of it ignoring the dependence structure. "
   ]
  },
  {
   "cell_type": "markdown",
   "id": "04748659",
   "metadata": {},
   "source": [
    "To the extent that the GLM and GEE parameter estimates differ, this is due to GEE attempting to exploit the dependence structure to obtain more efficient (i.e. more accurate) estimates of the model parameters. Thus, in summary, we can view GEE as trying to accomplish three things above and beyond what we obtain from GLM:\n",
    "\n",
    "* GEE gives us insight into the dependence structure of the data\n",
    "\n",
    "* GEE uses the dependence structure to obtain meaningful standard errors of the estimated model parameters.\n",
    "\n",
    "* GEE uses the dependence structure to estimate the model parameters more accurately"
   ]
  },
  {
   "cell_type": "markdown",
   "id": "115bcf2c",
   "metadata": {},
   "source": [
    "### Multilevel linear models"
   ]
  },
  {
   "cell_type": "markdown",
   "id": "254bcd27",
   "metadata": {},
   "source": [
    "A multilevel model is usually expressed in terms of random effects. These are variables that we do not observe, but that we can nevertheless incorporate into a statistical model. While these random effects are not observed, their presence can be inferred through the data, as long as each random effect is modeled as influencing at least two observations."
   ]
  },
  {
   "cell_type": "code",
   "execution_count": 34,
   "id": "f7461aef",
   "metadata": {},
   "outputs": [
    {
     "data": {
      "text/html": [
       "<table class=\"simpletable\">\n",
       "<tr>\n",
       "       <td>Model:</td>       <td>MixedLM</td> <td>Dependent Variable:</td>   <td>BPXSY1</td>   \n",
       "</tr>\n",
       "<tr>\n",
       "  <td>No. Observations:</td>  <td>5102</td>         <td>Method:</td>          <td>REML</td>    \n",
       "</tr>\n",
       "<tr>\n",
       "     <td>No. Groups:</td>      <td>30</td>          <td>Scale:</td>         <td>256.6952</td>  \n",
       "</tr>\n",
       "<tr>\n",
       "  <td>Min. group size:</td>    <td>106</td>     <td>Log-Likelihood:</td>   <td>-21409.8702</td>\n",
       "</tr>\n",
       "<tr>\n",
       "  <td>Max. group size:</td>    <td>226</td>       <td>Converged:</td>          <td>Yes</td>    \n",
       "</tr>\n",
       "<tr>\n",
       "  <td>Mean group size:</td>   <td>170.1</td>           <td></td>                <td></td>      \n",
       "</tr>\n",
       "</table>\n",
       "<table class=\"simpletable\">\n",
       "<tr>\n",
       "          <td></td>           <th>Coef.</th> <th>Std.Err.</th>    <th>z</th>   <th>P>|z|</th> <th>[0.025</th> <th>0.975]</th>\n",
       "</tr>\n",
       "<tr>\n",
       "  <th>Intercept</th>         <td>92.173</td>   <td>1.402</td>  <td>65.752</td> <td>0.000</td> <td>89.426</td> <td>94.921</td>\n",
       "</tr>\n",
       "<tr>\n",
       "  <th>RIAGENDRx[T.Male]</th>  <td>3.650</td>   <td>0.452</td>   <td>8.084</td> <td>0.000</td>  <td>2.765</td>  <td>4.535</td>\n",
       "</tr>\n",
       "<tr>\n",
       "  <th>C(RIDRETH1)[T.2]</th>   <td>0.153</td>   <td>0.887</td>   <td>0.172</td> <td>0.863</td> <td>-1.586</td>  <td>1.891</td>\n",
       "</tr>\n",
       "<tr>\n",
       "  <th>C(RIDRETH1)[T.3]</th>  <td>-2.238</td>   <td>0.758</td>  <td>-2.954</td> <td>0.003</td> <td>-3.723</td> <td>-0.753</td>\n",
       "</tr>\n",
       "<tr>\n",
       "  <th>C(RIDRETH1)[T.4]</th>   <td>3.098</td>   <td>0.836</td>   <td>3.707</td> <td>0.000</td>  <td>1.460</td>  <td>4.737</td>\n",
       "</tr>\n",
       "<tr>\n",
       "  <th>C(RIDRETH1)[T.5]</th>  <td>-0.439</td>   <td>0.878</td>  <td>-0.500</td> <td>0.617</td> <td>-2.161</td>  <td>1.282</td>\n",
       "</tr>\n",
       "<tr>\n",
       "  <th>RIDAGEYR</th>           <td>0.474</td>   <td>0.013</td>  <td>36.482</td> <td>0.000</td>  <td>0.449</td>  <td>0.500</td>\n",
       "</tr>\n",
       "<tr>\n",
       "  <th>BMXBMI</th>             <td>0.280</td>   <td>0.033</td>   <td>8.404</td> <td>0.000</td>  <td>0.215</td>  <td>0.346</td>\n",
       "</tr>\n",
       "<tr>\n",
       "  <th>group Var</th>          <td>3.615</td>   <td>0.085</td>     <td></td>      <td></td>       <td></td>       <td></td>   \n",
       "</tr>\n",
       "</table>"
      ],
      "text/plain": [
       "<class 'statsmodels.iolib.summary2.Summary'>\n",
       "\"\"\"\n",
       "           Mixed Linear Model Regression Results\n",
       "============================================================\n",
       "Model:             MixedLM  Dependent Variable:  BPXSY1     \n",
       "No. Observations:  5102     Method:              REML       \n",
       "No. Groups:        30       Scale:               256.6952   \n",
       "Min. group size:   106      Log-Likelihood:      -21409.8702\n",
       "Max. group size:   226      Converged:           Yes        \n",
       "Mean group size:   170.1                                    \n",
       "------------------------------------------------------------\n",
       "                  Coef.  Std.Err.   z    P>|z| [0.025 0.975]\n",
       "------------------------------------------------------------\n",
       "Intercept         92.173    1.402 65.752 0.000 89.426 94.921\n",
       "RIAGENDRx[T.Male]  3.650    0.452  8.084 0.000  2.765  4.535\n",
       "C(RIDRETH1)[T.2]   0.153    0.887  0.172 0.863 -1.586  1.891\n",
       "C(RIDRETH1)[T.3]  -2.238    0.758 -2.954 0.003 -3.723 -0.753\n",
       "C(RIDRETH1)[T.4]   3.098    0.836  3.707 0.000  1.460  4.737\n",
       "C(RIDRETH1)[T.5]  -0.439    0.878 -0.500 0.617 -2.161  1.282\n",
       "RIDAGEYR           0.474    0.013 36.482 0.000  0.449  0.500\n",
       "BMXBMI             0.280    0.033  8.404 0.000  0.215  0.346\n",
       "group Var          3.615    0.085                           \n",
       "============================================================\n",
       "\n",
       "\"\"\""
      ]
     },
     "execution_count": 34,
     "metadata": {},
     "output_type": "execute_result"
    }
   ],
   "source": [
    "#Mixed effect linear model\n",
    "model = sm.MixedLM.from_formula(\n",
    "    \"BPXSY1 ~ RIDAGEYR + RIAGENDRx + BMXBMI + C(RIDRETH1)\",\n",
    "    groups = 'group',\n",
    "    data = da\n",
    ")\n",
    "\n",
    "result = model.fit()\n",
    "result.summary()"
   ]
  },
  {
   "cell_type": "markdown",
   "id": "a09084f8",
   "metadata": {},
   "source": [
    "The \"variance structure parameters\" are what distinguish a mixed model from a marginal model. Here we only have one such parameter, which is the variance for groups, estimated to be 3.615. This means that if we were to choose two groups at random, their random effects would differ on average by around 2.69 (this is calculated as the square root of 2*3.615). This is a sizable shift, comparable to the difference between females and males, or to around 6 years of aging."
   ]
  },
  {
   "cell_type": "markdown",
   "id": "0ac47fc3",
   "metadata": {},
   "source": [
    "The predicted random effects for the 30 groups in this analysis are shown below:"
   ]
  },
  {
   "cell_type": "code",
   "execution_count": 35,
   "id": "4bb34b36",
   "metadata": {},
   "outputs": [
    {
     "data": {
      "text/plain": [
       "{1191: group   -1.630976\n",
       " dtype: float64,\n",
       " 1192: group   -0.086162\n",
       " dtype: float64,\n",
       " 1201: group   -2.042661\n",
       " dtype: float64,\n",
       " 1202: group   -0.147472\n",
       " dtype: float64,\n",
       " 1211: group    0.280623\n",
       " dtype: float64,\n",
       " 1212: group    1.580732\n",
       " dtype: float64,\n",
       " 1221: group    0.283347\n",
       " dtype: float64,\n",
       " 1222: group    0.131512\n",
       " dtype: float64,\n",
       " 1231: group   -2.038171\n",
       " dtype: float64,\n",
       " 1232: group    0.617651\n",
       " dtype: float64,\n",
       " 1241: group    2.878488\n",
       " dtype: float64,\n",
       " 1242: group   -0.519364\n",
       " dtype: float64,\n",
       " 1251: group    2.064967\n",
       " dtype: float64,\n",
       " 1252: group    1.521281\n",
       " dtype: float64,\n",
       " 1261: group   -1.261975\n",
       " dtype: float64,\n",
       " 1262: group    0.980846\n",
       " dtype: float64,\n",
       " 1271: group    0.118031\n",
       " dtype: float64,\n",
       " 1272: group   -0.128397\n",
       " dtype: float64,\n",
       " 1281: group   -0.384862\n",
       " dtype: float64,\n",
       " 1282: group   -3.582111\n",
       " dtype: float64,\n",
       " 1291: group   -3.271017\n",
       " dtype: float64,\n",
       " 1292: group   -0.829538\n",
       " dtype: float64,\n",
       " 1301: group   -0.884171\n",
       " dtype: float64,\n",
       " 1302: group    2.790657\n",
       " dtype: float64,\n",
       " 1311: group   -0.585201\n",
       " dtype: float64,\n",
       " 1312: group    1.198291\n",
       " dtype: float64,\n",
       " 1321: group   -0.195692\n",
       " dtype: float64,\n",
       " 1322: group    1.955515\n",
       " dtype: float64,\n",
       " 1331: group   -0.305559\n",
       " dtype: float64,\n",
       " 1332: group    1.491389\n",
       " dtype: float64}"
      ]
     },
     "execution_count": 35,
     "metadata": {},
     "output_type": "execute_result"
    }
   ],
   "source": [
    "result.random_effects"
   ]
  },
  {
   "cell_type": "markdown",
   "id": "62a9db7d",
   "metadata": {},
   "source": [
    "Based on these predicted random effects (also known as BLUPs), we see, for example, that cluster 1241 has unusually high SBP, and cluster 1282 has unusually low SBP. These deviations from what is expected are observed after adjusting for the covariates in the model, and hence are presumably driven by other characteristics of these clusters that are not reflected in the covariates."
   ]
  },
  {
   "cell_type": "markdown",
   "id": "09b915a5",
   "metadata": {},
   "source": [
    "### Random slopes"
   ]
  },
  {
   "cell_type": "markdown",
   "id": "c44ffe44",
   "metadata": {},
   "source": [
    "Multilevel modeling is a broad framework that allows many different types of models to be specified and fit. Here we are primarily focusing on the \"random intercept models\", that allow the data in each cluster to be shifted by a common amount, in order to account for stable confounders within clusters"
   ]
  },
  {
   "cell_type": "markdown",
   "id": "06330c92",
   "metadata": {},
   "source": [
    "Next we consider a more subtle form of cluster effect, in which the slope for a specific covariate varies from cluster to cluster. This is called a random slopes model. To demonstrate, we fit a model in which SBP has cluster-specific intercepts, and cluster-specific slopes for the age covariate. That is, we ask whether the rate at which blood pressure increases with age might differ from one cluster to the next."
   ]
  },
  {
   "cell_type": "code",
   "execution_count": 37,
   "id": "d6e55df7",
   "metadata": {},
   "outputs": [
    {
     "name": "stderr",
     "output_type": "stream",
     "text": [
      "C:\\Users\\kevin\\anaconda3\\lib\\site-packages\\statsmodels\\regression\\mixed_linear_model.py:2237: ConvergenceWarning: The MLE may be on the boundary of the parameter space.\n",
      "  warnings.warn(msg, ConvergenceWarning)\n"
     ]
    },
    {
     "data": {
      "text/html": [
       "<table class=\"simpletable\">\n",
       "<tr>\n",
       "       <td>Model:</td>       <td>MixedLM</td> <td>Dependent Variable:</td>   <td>BPXSY1</td>   \n",
       "</tr>\n",
       "<tr>\n",
       "  <td>No. Observations:</td>  <td>5102</td>         <td>Method:</td>          <td>REML</td>    \n",
       "</tr>\n",
       "<tr>\n",
       "     <td>No. Groups:</td>      <td>30</td>          <td>Scale:</td>         <td>263.7323</td>  \n",
       "</tr>\n",
       "<tr>\n",
       "  <td>Min. group size:</td>    <td>106</td>     <td>Log-Likelihood:</td>   <td>-21469.9240</td>\n",
       "</tr>\n",
       "<tr>\n",
       "  <td>Max. group size:</td>    <td>226</td>       <td>Converged:</td>          <td>Yes</td>    \n",
       "</tr>\n",
       "<tr>\n",
       "  <td>Mean group size:</td>   <td>170.1</td>           <td></td>                <td></td>      \n",
       "</tr>\n",
       "</table>\n",
       "<table class=\"simpletable\">\n",
       "<tr>\n",
       "          <td></td>           <th>Coef.</th>  <th>Std.Err.</th>    <th>z</th>   <th>P>|z|</th> <th>[0.025</th>  <th>0.975]</th> \n",
       "</tr>\n",
       "<tr>\n",
       "  <th>Intercept</th>         <td>115.207</td>   <td>1.209</td>  <td>95.265</td> <td>0.000</td> <td>112.836</td> <td>117.577</td>\n",
       "</tr>\n",
       "<tr>\n",
       "  <th>RIAGENDRx[T.Male]</th>  <td>3.643</td>    <td>0.457</td>   <td>7.962</td> <td>0.000</td>  <td>2.746</td>   <td>4.539</td> \n",
       "</tr>\n",
       "<tr>\n",
       "  <th>C(RIDRETH1)[T.2]</th>   <td>1.167</td>    <td>0.827</td>   <td>1.412</td> <td>0.158</td> <td>-0.453</td>   <td>2.787</td> \n",
       "</tr>\n",
       "<tr>\n",
       "  <th>C(RIDRETH1)[T.3]</th>  <td>-1.659</td>    <td>0.679</td>  <td>-2.444</td> <td>0.015</td> <td>-2.989</td>  <td>-0.328</td> \n",
       "</tr>\n",
       "<tr>\n",
       "  <th>C(RIDRETH1)[T.4]</th>   <td>3.610</td>    <td>0.739</td>   <td>4.884</td> <td>0.000</td>  <td>2.161</td>   <td>5.058</td> \n",
       "</tr>\n",
       "<tr>\n",
       "  <th>C(RIDRETH1)[T.5]</th>  <td>-1.208</td>    <td>0.816</td>  <td>-1.480</td> <td>0.139</td> <td>-2.807</td>   <td>0.392</td> \n",
       "</tr>\n",
       "<tr>\n",
       "  <th>age_cen</th>            <td>0.467</td>    <td>0.018</td>  <td>26.235</td> <td>0.000</td>  <td>0.432</td>   <td>0.502</td> \n",
       "</tr>\n",
       "<tr>\n",
       "  <th>BMXBMI</th>             <td>0.288</td>    <td>0.034</td>   <td>8.574</td> <td>0.000</td>  <td>0.222</td>   <td>0.353</td> \n",
       "</tr>\n",
       "<tr>\n",
       "  <th>age_cen Var</th>        <td>0.004</td>    <td>0.000</td>     <td></td>      <td></td>       <td></td>        <td></td>    \n",
       "</tr>\n",
       "</table>"
      ],
      "text/plain": [
       "<class 'statsmodels.iolib.summary2.Summary'>\n",
       "\"\"\"\n",
       "             Mixed Linear Model Regression Results\n",
       "===============================================================\n",
       "Model:              MixedLM   Dependent Variable:   BPXSY1     \n",
       "No. Observations:   5102      Method:               REML       \n",
       "No. Groups:         30        Scale:                263.7323   \n",
       "Min. group size:    106       Log-Likelihood:       -21469.9240\n",
       "Max. group size:    226       Converged:            Yes        \n",
       "Mean group size:    170.1                                      \n",
       "---------------------------------------------------------------\n",
       "                   Coef.  Std.Err.   z    P>|z|  [0.025  0.975]\n",
       "---------------------------------------------------------------\n",
       "Intercept         115.207    1.209 95.265 0.000 112.836 117.577\n",
       "RIAGENDRx[T.Male]   3.643    0.457  7.962 0.000   2.746   4.539\n",
       "C(RIDRETH1)[T.2]    1.167    0.827  1.412 0.158  -0.453   2.787\n",
       "C(RIDRETH1)[T.3]   -1.659    0.679 -2.444 0.015  -2.989  -0.328\n",
       "C(RIDRETH1)[T.4]    3.610    0.739  4.884 0.000   2.161   5.058\n",
       "C(RIDRETH1)[T.5]   -1.208    0.816 -1.480 0.139  -2.807   0.392\n",
       "age_cen             0.467    0.018 26.235 0.000   0.432   0.502\n",
       "BMXBMI              0.288    0.034  8.574 0.000   0.222   0.353\n",
       "age_cen Var         0.004    0.000                             \n",
       "===============================================================\n",
       "\n",
       "\"\"\""
      ]
     },
     "execution_count": 37,
     "metadata": {},
     "output_type": "execute_result"
    }
   ],
   "source": [
    "#Centering age covariate (within clusters) for better convergence and robustness\n",
    "da['age_cen'] = da.groupby('group').RIDAGEYR.transform(lambda x: x - x.mean())\n",
    "\n",
    "#Fit model\n",
    "model = sm.MixedLM.from_formula(\n",
    "    \"BPXSY1 ~ age_cen + RIAGENDRx + BMXBMI + C(RIDRETH1)\",\n",
    "    groups = 'group',\n",
    "    vc_formula = {\"age_cen\": \"0 + age_cen\"},\n",
    "    data = da\n",
    ")\n",
    "result = model.fit()\n",
    "result.summary()"
   ]
  },
  {
   "cell_type": "code",
   "execution_count": 40,
   "id": "dd6b97cc",
   "metadata": {},
   "outputs": [
    {
     "data": {
      "text/plain": [
       "0.06"
      ]
     },
     "execution_count": 40,
     "metadata": {},
     "output_type": "execute_result"
    }
   ],
   "source": [
    "std_dev = np.round(np.sqrt(0.004), 2)\n",
    "std_dev"
   ]
  },
  {
   "cell_type": "markdown",
   "id": "48b4e403",
   "metadata": {},
   "source": [
    "We see that the estimated variance for random age slopes is 0.004, which translates to a standard deviation of 0.06. That is, from one cluster to another, the age slopes fluctuate by  ±0.06−0.12  (1-2 standard deviations). These cluster-specific fluctuations are added/subtracted from the fixed effect for age, which is 0.467. Thus, in some clusters SBP may increase by around 0.467 + 0.06 = 0.527 mm/Hg per year, while in other clusters SBP may increase by only around 0.467 - 0.06 = 0.407 mm/Hg per year."
   ]
  },
  {
   "cell_type": "markdown",
   "id": "494d98bf",
   "metadata": {},
   "source": [
    "Next, we fit a model in which the cluster-specific intercepts and slopes are allowed to be correlated."
   ]
  },
  {
   "cell_type": "code",
   "execution_count": 43,
   "id": "adf9030f",
   "metadata": {},
   "outputs": [
    {
     "name": "stderr",
     "output_type": "stream",
     "text": [
      "C:\\Users\\kevin\\anaconda3\\lib\\site-packages\\statsmodels\\regression\\mixed_linear_model.py:2237: ConvergenceWarning: The MLE may be on the boundary of the parameter space.\n",
      "  warnings.warn(msg, ConvergenceWarning)\n"
     ]
    },
    {
     "data": {
      "text/html": [
       "<table class=\"simpletable\">\n",
       "<tr>\n",
       "       <td>Model:</td>       <td>MixedLM</td> <td>Dependent Variable:</td>   <td>BPXSY1</td>   \n",
       "</tr>\n",
       "<tr>\n",
       "  <td>No. Observations:</td>  <td>5102</td>         <td>Method:</td>          <td>REML</td>    \n",
       "</tr>\n",
       "<tr>\n",
       "     <td>No. Groups:</td>      <td>30</td>          <td>Scale:</td>         <td>255.4451</td>  \n",
       "</tr>\n",
       "<tr>\n",
       "  <td>Min. group size:</td>    <td>106</td>     <td>Log-Likelihood:</td>   <td>-21413.6193</td>\n",
       "</tr>\n",
       "<tr>\n",
       "  <td>Max. group size:</td>    <td>226</td>       <td>Converged:</td>          <td>Yes</td>    \n",
       "</tr>\n",
       "<tr>\n",
       "  <td>Mean group size:</td>   <td>170.1</td>           <td></td>                <td></td>      \n",
       "</tr>\n",
       "</table>\n",
       "<table class=\"simpletable\">\n",
       "<tr>\n",
       "           <td></td>            <th>Coef.</th>  <th>Std.Err.</th>    <th>z</th>   <th>P>|z|</th> <th>[0.025</th>  <th>0.975]</th> \n",
       "</tr>\n",
       "<tr>\n",
       "  <th>Intercept</th>           <td>115.467</td>   <td>1.340</td>  <td>86.173</td> <td>0.000</td> <td>112.840</td> <td>118.093</td>\n",
       "</tr>\n",
       "<tr>\n",
       "  <th>RIAGENDRx[T.Male]</th>    <td>3.662</td>    <td>0.451</td>   <td>8.121</td> <td>0.000</td>  <td>2.778</td>   <td>4.546</td> \n",
       "</tr>\n",
       "<tr>\n",
       "  <th>C(RIDRETH1)[T.2]</th>     <td>0.023</td>    <td>0.898</td>   <td>0.025</td> <td>0.980</td> <td>-1.738</td>   <td>1.783</td> \n",
       "</tr>\n",
       "<tr>\n",
       "  <th>C(RIDRETH1)[T.3]</th>    <td>-2.251</td>    <td>0.778</td>  <td>-2.893</td> <td>0.004</td> <td>-3.775</td>  <td>-0.726</td> \n",
       "</tr>\n",
       "<tr>\n",
       "  <th>C(RIDRETH1)[T.4]</th>     <td>3.011</td>    <td>0.854</td>   <td>3.524</td> <td>0.000</td>  <td>1.336</td>   <td>4.686</td> \n",
       "</tr>\n",
       "<tr>\n",
       "  <th>C(RIDRETH1)[T.5]</th>    <td>-0.585</td>    <td>0.893</td>  <td>-0.655</td> <td>0.512</td> <td>-2.336</td>   <td>1.165</td> \n",
       "</tr>\n",
       "<tr>\n",
       "  <th>age_cen</th>              <td>0.466</td>    <td>0.018</td>  <td>26.286</td> <td>0.000</td>  <td>0.431</td>   <td>0.501</td> \n",
       "</tr>\n",
       "<tr>\n",
       "  <th>BMXBMI</th>               <td>0.283</td>    <td>0.033</td>   <td>8.497</td> <td>0.000</td>  <td>0.218</td>   <td>0.349</td> \n",
       "</tr>\n",
       "<tr>\n",
       "  <th>group Var</th>            <td>8.655</td>    <td>0.169</td>     <td></td>      <td></td>       <td></td>        <td></td>    \n",
       "</tr>\n",
       "<tr>\n",
       "  <th>group x age_cen Cov</th>  <td>0.119</td>    <td>0.004</td>     <td></td>      <td></td>       <td></td>        <td></td>    \n",
       "</tr>\n",
       "<tr>\n",
       "  <th>age_cen Var</th>          <td>0.004</td>    <td>0.000</td>     <td></td>      <td></td>       <td></td>        <td></td>    \n",
       "</tr>\n",
       "</table>"
      ],
      "text/plain": [
       "<class 'statsmodels.iolib.summary2.Summary'>\n",
       "\"\"\"\n",
       "              Mixed Linear Model Regression Results\n",
       "=================================================================\n",
       "Model:                MixedLM   Dependent Variable:   BPXSY1     \n",
       "No. Observations:     5102      Method:               REML       \n",
       "No. Groups:           30        Scale:                255.4451   \n",
       "Min. group size:      106       Log-Likelihood:       -21413.6193\n",
       "Max. group size:      226       Converged:            Yes        \n",
       "Mean group size:      170.1                                      \n",
       "-----------------------------------------------------------------\n",
       "                     Coef.  Std.Err.   z    P>|z|  [0.025  0.975]\n",
       "-----------------------------------------------------------------\n",
       "Intercept           115.467    1.340 86.173 0.000 112.840 118.093\n",
       "RIAGENDRx[T.Male]     3.662    0.451  8.121 0.000   2.778   4.546\n",
       "C(RIDRETH1)[T.2]      0.023    0.898  0.025 0.980  -1.738   1.783\n",
       "C(RIDRETH1)[T.3]     -2.251    0.778 -2.893 0.004  -3.775  -0.726\n",
       "C(RIDRETH1)[T.4]      3.011    0.854  3.524 0.000   1.336   4.686\n",
       "C(RIDRETH1)[T.5]     -0.585    0.893 -0.655 0.512  -2.336   1.165\n",
       "age_cen               0.466    0.018 26.286 0.000   0.431   0.501\n",
       "BMXBMI                0.283    0.033  8.497 0.000   0.218   0.349\n",
       "group Var             8.655    0.169                             \n",
       "group x age_cen Cov   0.119    0.004                             \n",
       "age_cen Var           0.004    0.000                             \n",
       "=================================================================\n",
       "\n",
       "\"\"\""
      ]
     },
     "execution_count": 43,
     "metadata": {},
     "output_type": "execute_result"
    }
   ],
   "source": [
    "model = sm.MixedLM.from_formula(\n",
    "    \"BPXSY1 ~ age_cen + RIAGENDRx + BMXBMI + C(RIDRETH1)\",\n",
    "    groups = \"group\", \n",
    "    re_formula = \"1 + age_cen\", \n",
    "    data = da\n",
    ")\n",
    "result = model.fit()\n",
    "result.summary()"
   ]
  },
  {
   "cell_type": "markdown",
   "id": "90c53321",
   "metadata": {},
   "source": [
    "The estimated correlation coefficient between random slopes and random intercepts is estimated to be 0.119/sqrt(8.655*0.004), which is around 0.64. This indicates that the clusters with unusually high average SBP also tend to have SBP increasing faster with age. Note however that these structural parameters are only estimates, and due to the variance parameter falling close to the boundary, the estimates may not be particularly precise."
   ]
  },
  {
   "cell_type": "code",
   "execution_count": null,
   "id": "18a5a98f",
   "metadata": {},
   "outputs": [],
   "source": []
  }
 ],
 "metadata": {
  "kernelspec": {
   "display_name": "Python 3 (ipykernel)",
   "language": "python",
   "name": "python3"
  },
  "language_info": {
   "codemirror_mode": {
    "name": "ipython",
    "version": 3
   },
   "file_extension": ".py",
   "mimetype": "text/x-python",
   "name": "python",
   "nbconvert_exporter": "python",
   "pygments_lexer": "ipython3",
   "version": "3.9.7"
  }
 },
 "nbformat": 4,
 "nbformat_minor": 5
}
